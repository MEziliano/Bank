{
  "cells": [
    {
      "cell_type": "markdown",
      "metadata": {
        "id": "nhJBElshQYWv"
      },
      "source": [
        "# Churn Predict "
      ]
    },
    {
      "cell_type": "markdown",
      "metadata": {
        "id": "uNsuGEI0QYWw"
      },
      "source": [
        "## Import the librarys"
      ]
    },
    {
      "cell_type": "code",
      "execution_count": 2,
      "metadata": {
        "colab": {
          "base_uri": "https://localhost:8080/"
        },
        "id": "jGHaUAQfvKue",
        "outputId": "065ed729-c46d-4604-e252-7a9e4c99709b"
      },
      "outputs": [
        {
          "name": "stdout",
          "output_type": "stream",
          "text": [
            "Collecting shap\n",
            "  Downloading shap-0.40.0-cp39-cp39-win_amd64.whl (432 kB)\n",
            "     ------------------------------------ 432.7/432.7 KB 198.8 kB/s eta 0:00:00\n",
            "Collecting cloudpickle\n",
            "  Downloading cloudpickle-2.0.0-py3-none-any.whl (25 kB)\n",
            "Requirement already satisfied: scikit-learn in c:\\users\\murilo\\appdata\\local\\packages\\pythonsoftwarefoundation.python.3.9_qbz5n2kfra8p0\\localcache\\local-packages\\python39\\site-packages (from shap) (1.0.1)\n",
            "Requirement already satisfied: pandas in c:\\users\\murilo\\appdata\\local\\packages\\pythonsoftwarefoundation.python.3.9_qbz5n2kfra8p0\\localcache\\local-packages\\python39\\site-packages (from shap) (1.3.4)\n",
            "Requirement already satisfied: numpy in c:\\users\\murilo\\appdata\\local\\packages\\pythonsoftwarefoundation.python.3.9_qbz5n2kfra8p0\\localcache\\local-packages\\python39\\site-packages (from shap) (1.21.4)\n",
            "Collecting numba\n",
            "  Downloading numba-0.55.1-cp39-cp39-win_amd64.whl (2.4 MB)\n",
            "     ---------------------------------------- 2.4/2.4 MB 2.1 MB/s eta 0:00:00\n",
            "Requirement already satisfied: scipy in c:\\users\\murilo\\appdata\\local\\packages\\pythonsoftwarefoundation.python.3.9_qbz5n2kfra8p0\\localcache\\local-packages\\python39\\site-packages (from shap) (1.7.3)\n",
            "Requirement already satisfied: packaging>20.9 in c:\\users\\murilo\\appdata\\local\\packages\\pythonsoftwarefoundation.python.3.9_qbz5n2kfra8p0\\localcache\\local-packages\\python39\\site-packages (from shap) (21.3)\n",
            "Requirement already satisfied: tqdm>4.25.0 in c:\\users\\murilo\\appdata\\local\\packages\\pythonsoftwarefoundation.python.3.9_qbz5n2kfra8p0\\localcache\\local-packages\\python39\\site-packages (from shap) (4.64.0)\n",
            "Collecting slicer==0.0.7\n",
            "  Downloading slicer-0.0.7-py3-none-any.whl (14 kB)\n",
            "Requirement already satisfied: pyparsing!=3.0.5,>=2.0.2 in c:\\users\\murilo\\appdata\\local\\packages\\pythonsoftwarefoundation.python.3.9_qbz5n2kfra8p0\\localcache\\local-packages\\python39\\site-packages (from packaging>20.9->shap) (3.0.6)\n",
            "Requirement already satisfied: colorama in c:\\users\\murilo\\appdata\\local\\packages\\pythonsoftwarefoundation.python.3.9_qbz5n2kfra8p0\\localcache\\local-packages\\python39\\site-packages (from tqdm>4.25.0->shap) (0.4.4)\n",
            "Requirement already satisfied: setuptools in c:\\program files\\windowsapps\\pythonsoftwarefoundation.python.3.9_3.9.3312.0_x64__qbz5n2kfra8p0\\lib\\site-packages (from numba->shap) (58.1.0)\n",
            "Collecting llvmlite<0.39,>=0.38.0rc1\n",
            "  Downloading llvmlite-0.38.0-cp39-cp39-win_amd64.whl (23.2 MB)\n",
            "     ---------------------------------------- 23.2/23.2 MB 1.6 MB/s eta 0:00:00\n",
            "Requirement already satisfied: python-dateutil>=2.7.3 in c:\\users\\murilo\\appdata\\local\\packages\\pythonsoftwarefoundation.python.3.9_qbz5n2kfra8p0\\localcache\\local-packages\\python39\\site-packages (from pandas->shap) (2.8.2)\n",
            "Requirement already satisfied: pytz>=2017.3 in c:\\users\\murilo\\appdata\\local\\packages\\pythonsoftwarefoundation.python.3.9_qbz5n2kfra8p0\\localcache\\local-packages\\python39\\site-packages (from pandas->shap) (2021.3)\n",
            "Requirement already satisfied: threadpoolctl>=2.0.0 in c:\\users\\murilo\\appdata\\local\\packages\\pythonsoftwarefoundation.python.3.9_qbz5n2kfra8p0\\localcache\\local-packages\\python39\\site-packages (from scikit-learn->shap) (3.0.0)\n",
            "Requirement already satisfied: joblib>=0.11 in c:\\users\\murilo\\appdata\\local\\packages\\pythonsoftwarefoundation.python.3.9_qbz5n2kfra8p0\\localcache\\local-packages\\python39\\site-packages (from scikit-learn->shap) (1.1.0)"
          ]
        },
        {
          "name": "stderr",
          "output_type": "stream",
          "text": [
            "WARNING: You are using pip version 22.0.4; however, version 22.1 is available.\n",
            "You should consider upgrading via the 'C:\\Users\\Murilo\\AppData\\Local\\Microsoft\\WindowsApps\\PythonSoftwareFoundation.Python.3.9_qbz5n2kfra8p0\\python.exe -m pip install --upgrade pip' command.\n"
          ]
        },
        {
          "name": "stdout",
          "output_type": "stream",
          "text": [
            "\n",
            "Requirement already satisfied: six>=1.5 in c:\\users\\murilo\\appdata\\local\\packages\\pythonsoftwarefoundation.python.3.9_qbz5n2kfra8p0\\localcache\\local-packages\\python39\\site-packages (from python-dateutil>=2.7.3->pandas->shap) (1.16.0)\n",
            "Installing collected packages: slicer, llvmlite, cloudpickle, numba, shap\n",
            "Successfully installed cloudpickle-2.0.0 llvmlite-0.38.0 numba-0.55.1 shap-0.40.0 slicer-0.0.7\n"
          ]
        }
      ],
      "source": [
        "! pip install shap"
      ]
    },
    {
      "cell_type": "code",
      "execution_count": 3,
      "metadata": {
        "id": "n2eZrifSF4JS"
      },
      "outputs": [
        {
          "ename": "ModuleNotFoundError",
          "evalue": "No module named 'matplotlib'",
          "output_type": "error",
          "traceback": [
            "\u001b[1;31m---------------------------------------------------------------------------\u001b[0m",
            "\u001b[1;31mModuleNotFoundError\u001b[0m                       Traceback (most recent call last)",
            "\u001b[1;32m~\\AppData\\Local\\Temp/ipykernel_1064/704619043.py\u001b[0m in \u001b[0;36m<module>\u001b[1;34m\u001b[0m\n\u001b[0;32m      4\u001b[0m \u001b[1;33m\u001b[0m\u001b[0m\n\u001b[0;32m      5\u001b[0m \u001b[1;31m# Visualization libraries\u001b[0m\u001b[1;33m\u001b[0m\u001b[1;33m\u001b[0m\u001b[0m\n\u001b[1;32m----> 6\u001b[1;33m \u001b[1;32mimport\u001b[0m \u001b[0mmatplotlib\u001b[0m \u001b[1;32mas\u001b[0m \u001b[0mmpl\u001b[0m\u001b[1;33m\u001b[0m\u001b[1;33m\u001b[0m\u001b[0m\n\u001b[0m\u001b[0;32m      7\u001b[0m \u001b[1;32mimport\u001b[0m \u001b[0mmatplotlib\u001b[0m\u001b[1;33m.\u001b[0m\u001b[0mpyplot\u001b[0m \u001b[1;32mas\u001b[0m \u001b[0mplt\u001b[0m\u001b[1;33m\u001b[0m\u001b[1;33m\u001b[0m\u001b[0m\n\u001b[0;32m      8\u001b[0m \u001b[1;32mimport\u001b[0m \u001b[0mseaborn\u001b[0m \u001b[1;32mas\u001b[0m \u001b[0msns\u001b[0m\u001b[1;33m\u001b[0m\u001b[1;33m\u001b[0m\u001b[0m\n",
            "\u001b[1;31mModuleNotFoundError\u001b[0m: No module named 'matplotlib'"
          ]
        }
      ],
      "source": [
        "# library and Data Manipulation\n",
        "import pandas as pd\n",
        "import numpy as np \n",
        "\n",
        "# Visualization libraries \n",
        "import matplotlib as mpl\n",
        "import matplotlib.pyplot as plt \n",
        "import seaborn as sns\n",
        "import matplotlib.gridspec as gridspec\n",
        "from matplotlib.legend_handler import HandlerLine2D\n",
        "\n",
        "# Data preparation\n",
        "from sklearn.model_selection import train_test_split\n",
        "from sklearn import preprocessing\n",
        "from sklearn.pipeline import Pipeline\n",
        "\n",
        "# Machine Learning Models\n",
        "from sklearn.ensemble import RandomForestClassifier, AdaBoostClassifier, GradientBoostingClassifier, ExtraTreesClassifier \n",
        "from sklearn.neighbors import KNeighborsClassifier\n",
        "from xgboost import XGBClassifier, train\n",
        "from sklearn.neural_network import MLPClassifier\n",
        "\n",
        "# Evaluating the models\n",
        "from sklearn import metrics\n",
        "from sklearn.metrics import accuracy_score, precision_score, f1_score, recall_score, classification_report \n",
        "from sklearn.metrics import plot_confusion_matrix, confusion_matrix, ConfusionMatrixDisplay, roc_curve, auc, precision_recall_curve\n",
        "from sklearn .metrics import roc_auc_score\n",
        "# Finding the best parameter for the Machine Learning Model\n",
        "from sklearn.model_selection import GridSearchCV\n",
        "\n",
        "# SHAP Values\n",
        "import shap\n",
        "\n",
        "# Serializing the model \n",
        "import joblib\n",
        "\n",
        "# Avoiding unnecessary messages\n",
        "from pprint import pprint\n",
        "import warnings\n",
        "warnings.filterwarnings(\"ignore\")"
      ]
    },
    {
      "cell_type": "code",
      "execution_count": 4,
      "metadata": {},
      "outputs": [],
      "source": [
        "import pandas as pd"
      ]
    },
    {
      "cell_type": "markdown",
      "metadata": {
        "id": "v2lDPjAhQYWz"
      },
      "source": [
        "## Reading the Data"
      ]
    },
    {
      "cell_type": "code",
      "execution_count": 5,
      "metadata": {
        "id": "uaP8NrQXQYW0"
      },
      "outputs": [],
      "source": [
        "df = pd.read_csv('churn.csv')"
      ]
    },
    {
      "cell_type": "markdown",
      "metadata": {
        "id": "LfYdsV1RGndP"
      },
      "source": [
        "## Preparing the dataset  "
      ]
    },
    {
      "cell_type": "code",
      "execution_count": null,
      "metadata": {
        "id": "NTGE5jbqFw_o",
        "scrolled": true
      },
      "outputs": [],
      "source": [
        "def treate_data(df):\n",
        "  df['AgeGroup'] = df['Age'].apply(lambda x: 1 if x >=55  else 0)  \n",
        "  df[\"AgeCategory\"] = 'Adult'\n",
        "  df.loc[df['Age'] >= 55, 'AgeCategory'] ='Senior'\n",
        "  df.loc[df['Age'] <= 25, 'AgeCategory'] = 'Young'\n",
        "  df['Gender']= df['Gender'].map({'Male':0, 'Female':1})\n",
        "  return df"
      ]
    },
    {
      "cell_type": "code",
      "execution_count": null,
      "metadata": {
        "id": "5UjPFagE79DW"
      },
      "outputs": [],
      "source": [
        "def get_dummies(df):\n",
        "  Products = pd.get_dummies(df['NumOfProducts'])\n",
        "  Geo = pd.get_dummies(df['Geography'])\n",
        "  df = pd.concat([df, Products, Geo], axis=1)\n",
        "  return df"
      ]
    },
    {
      "cell_type": "code",
      "execution_count": null,
      "metadata": {
        "id": "NevRiP6zlQAn"
      },
      "outputs": [],
      "source": [
        "def delete(df):\n",
        "  df = df.drop(['RowNumber', 'CustomerId', 'Surname', 'Geography', 'AgeCategory'], axis=1)\n",
        "  return df"
      ]
    },
    {
      "cell_type": "code",
      "execution_count": null,
      "metadata": {
        "id": "cnQcswOTdoEI"
      },
      "outputs": [],
      "source": [
        "df = (df.\n",
        "    pipe(treate_data).\n",
        "    pipe(get_dummies).\n",
        "    pipe(delete))\n",
        "    "
      ]
    },
    {
      "cell_type": "code",
      "execution_count": null,
      "metadata": {
        "id": "iR9T1URpFw_1"
      },
      "outputs": [],
      "source": [
        "df1 = df[[\"CreditScore\", \"Gender\",\"Age\", \"Tenure\", \"Balance\", \"NumOfProducts\", \"HasCrCard\", \"IsActiveMember\", \n",
        "          \"EstimatedSalary\", 1, 2\t,3,\t4,'France',\t'Germany'\t,'Spain', \"Exited\"]] #\"AgeCategory\"\n"
      ]
    },
    {
      "cell_type": "code",
      "execution_count": null,
      "metadata": {
        "colab": {
          "base_uri": "https://localhost:8080/"
        },
        "id": "henzrSnKfCPi",
        "outputId": "eeb728b9-e02d-46bf-86f4-171c279a027f"
      },
      "outputs": [
        {
          "data": {
            "text/plain": [
              "Index([    'CreditScore',          'Gender',             'Age',\n",
              "                'Tenure',         'Balance',   'NumOfProducts',\n",
              "             'HasCrCard',  'IsActiveMember', 'EstimatedSalary',\n",
              "                       1,                 2,                 3,\n",
              "                       4,          'France',         'Germany',\n",
              "                 'Spain',          'Exited'],\n",
              "      dtype='object')"
            ]
          },
          "execution_count": 9,
          "metadata": {},
          "output_type": "execute_result"
        }
      ],
      "source": [
        "df1.columns"
      ]
    },
    {
      "cell_type": "code",
      "execution_count": null,
      "metadata": {
        "colab": {
          "base_uri": "https://localhost:8080/"
        },
        "id": "AD32wQq8Ej0Z",
        "outputId": "b557f123-d5ec-4d01-edd7-8ed4a7b091ac"
      },
      "outputs": [
        {
          "data": {
            "text/plain": [
              "Index([    'CreditScore',          'Gender',             'Age',\n",
              "                'Tenure',         'Balance',   'NumOfProducts',\n",
              "             'HasCrCard',  'IsActiveMember', 'EstimatedSalary',\n",
              "                'Exited',        'AgeGroup',                 1,\n",
              "                       2,                 3,                 4,\n",
              "                'France',         'Germany',           'Spain'],\n",
              "      dtype='object')"
            ]
          },
          "execution_count": 10,
          "metadata": {},
          "output_type": "execute_result"
        }
      ],
      "source": [
        "df.columns"
      ]
    },
    {
      "cell_type": "markdown",
      "metadata": {
        "id": "YWv1XEZIQYXB"
      },
      "source": [
        "# Spiltting the features"
      ]
    },
    {
      "cell_type": "code",
      "execution_count": null,
      "metadata": {
        "id": "aAfN1kFcQYW8"
      },
      "outputs": [],
      "source": [
        "y = df1['Exited']\n",
        "X = df1.drop(['Exited'], axis = 1)\n",
        "\n",
        "X_train, X_test, y_train, y_test = train_test_split(X, y, test_size=0.33, random_state=42)"
      ]
    },
    {
      "cell_type": "markdown",
      "metadata": {
        "id": "hQagLwKUQYXE"
      },
      "source": [
        "### Balancing the classes"
      ]
    },
    {
      "cell_type": "code",
      "execution_count": null,
      "metadata": {
        "id": "mVcQwSnwQYXF"
      },
      "outputs": [],
      "source": [
        "from imblearn.over_sampling import RandomOverSampler"
      ]
    },
    {
      "cell_type": "code",
      "execution_count": null,
      "metadata": {
        "id": "IzL2HZX3QYXF"
      },
      "outputs": [],
      "source": [
        "# Only apply the over/under sampling in the train data\n",
        "sampling = RandomOverSampler()"
      ]
    },
    {
      "cell_type": "code",
      "execution_count": null,
      "metadata": {
        "id": "DiGjazLcQYXG"
      },
      "outputs": [],
      "source": [
        "X_train_sampled, y_train_sampled = sampling.fit_resample(X_train, y_train)"
      ]
    },
    {
      "cell_type": "markdown",
      "metadata": {
        "id": "KUfb_-XiQYXJ"
      },
      "source": [
        "## Evaluating the model"
      ]
    },
    {
      "cell_type": "code",
      "execution_count": null,
      "metadata": {
        "colab": {
          "base_uri": "https://localhost:8080/"
        },
        "id": "5zGPlYoEFxAE",
        "outputId": "f77973bd-d7cf-4c6b-e647-e1d0bde4885c"
      },
      "outputs": [
        {
          "name": "stdout",
          "output_type": "stream",
          "text": [
            "KNN\n",
            "Acccuracy: 76.9090909090909%\n",
            "Precision: 25.514403292181072%\n",
            "Recall:    9.642301710730948%\n",
            "F1-Score:  13.99548532731377%\n",
            "---------------------------------\n",
            "Extra Tree\n",
            "Acccuracy: 86.57575757575758%\n",
            "Precision: 73.69668246445498%\n",
            "Recall:    48.367029548989116%\n",
            "F1-Score:  58.40375586854459%\n",
            "---------------------------------\n",
            "Random Forest\n",
            "Acccuracy: 86.87878787878788%\n",
            "Precision: 75.60975609756098%\n",
            "Recall:    48.21150855365474%\n",
            "F1-Score:  58.87939221272555%\n",
            "---------------------------------\n",
            "XGBoost\n",
            "Acccuracy: 87.03030303030303%\n",
            "Precision: 76.28361858190709%\n",
            "Recall:    48.52255054432349%\n",
            "F1-Score:  59.31558935361216%\n",
            "---------------------------------\n",
            "AdaBoost\n",
            "Acccuracy: 85.75757575757575%\n",
            "Precision: 70.06960556844548%\n",
            "Recall:    46.96734059097978%\n",
            "F1-Score:  56.238361266294234%\n",
            "---------------------------------\n",
            "Gradient Boosting\n",
            "Acccuracy: 86.9090909090909%\n",
            "Precision: 75.669099756691%\n",
            "Recall:    48.367029548989116%\n",
            "F1-Score:  59.01328273244781%\n",
            "---------------------------------\n",
            "Redes Neurais\n",
            "Acccuracy: 80.54545454545455%\n",
            "Precision: 100.0%\n",
            "Recall:    0.15552099533437014%\n",
            "F1-Score:  0.3105590062111801%\n",
            "---------------------------------\n"
          ]
        }
      ],
      "source": [
        "# Choosing the models\n",
        "models = {'KNN':               KNeighborsClassifier(),  \n",
        "          'Extra Tree':        ExtraTreesClassifier(),  \n",
        "          'Random Forest':     RandomForestClassifier(),   \n",
        "          'XGBoost':           XGBClassifier(), \n",
        "          'AdaBoost':          AdaBoostClassifier(),  \n",
        "          'Gradient Boosting': GradientBoostingClassifier(),  \n",
        "          'Redes Neurais':     MLPClassifier()}  \n",
        "          \n",
        "# evaluating the models\n",
        "for reg, modelo in zip(models.values(),models.keys()):\n",
        "  regressor = reg\n",
        "  regressor.fit(X_train, y_train)\n",
        "  y_pred = regressor.predict(X_test)\n",
        "  print(modelo)\n",
        "  print(f\"Acccuracy: {accuracy_score(y_test, y_pred)*100}%\")\n",
        "  print(f\"Precision: {precision_score(y_test, y_pred)*100}%\")\n",
        "  print(f\"Recall:    {recall_score(y_test, y_pred)*100}%\")\n",
        "  print(f\"F1-Score:  {f1_score(y_test, y_pred)*100}%\")\n",
        "  print('---------------------------------')"
      ]
    },
    {
      "cell_type": "markdown",
      "metadata": {
        "id": "rv_iJ7FgQYXG"
      },
      "source": [
        "### Training the best model"
      ]
    },
    {
      "cell_type": "code",
      "execution_count": null,
      "metadata": {
        "colab": {
          "base_uri": "https://localhost:8080/"
        },
        "id": "u5-aFfnEQYXG",
        "outputId": "95fbe805-55c4-4e16-eda9-b05b0a9b2f2f"
      },
      "outputs": [
        {
          "data": {
            "text/plain": [
              "ExtraTreesClassifier()"
            ]
          },
          "execution_count": 95,
          "metadata": {},
          "output_type": "execute_result"
        }
      ],
      "source": [
        "EXC1 = ExtraTreesClassifier()\n",
        "EXC1.fit(X_train_sampled, y_train_sampled)"
      ]
    },
    {
      "cell_type": "code",
      "execution_count": null,
      "metadata": {
        "colab": {
          "base_uri": "https://localhost:8080/"
        },
        "id": "YDUWm7ibkmOk",
        "outputId": "f5602b2f-b922-42fb-e81e-18f44aaa39a8"
      },
      "outputs": [
        {
          "name": "stdout",
          "output_type": "stream",
          "text": [
            "Acccuracy: 86.48484848484848%\n",
            "Precision: 73.96593673965937%\n",
            "Recall:    47.27838258164852%\n",
            "F1-Score:  57.685009487666036%\n"
          ]
        }
      ],
      "source": [
        "# Check the best parameters\n",
        "EXC1.fit(X_train,y_train) \n",
        "y_pred_EXC1 = EXC1.predict(X_test) \n",
        "print(f\"Acccuracy: {accuracy_score(y_test, y_pred_EXC1)*100}%\")\n",
        "print(f\"Precision: {precision_score(y_test, y_pred_EXC1)*100}%\")\n",
        "print(f\"Recall:    {recall_score(y_test, y_pred_EXC1)*100}%\")\n",
        "print(f\"F1-Score:  {f1_score(y_test, y_pred_EXC1)*100}%\")"
      ]
    },
    {
      "cell_type": "markdown",
      "metadata": {
        "id": "VzXotc1i2thU"
      },
      "source": [
        "Founding the [best parameters](https://medium.com/all-things-ai/in-depth-parameter-tuning-for-gradient-boosting-3363992e9bae)"
      ]
    },
    {
      "cell_type": "code",
      "execution_count": null,
      "metadata": {
        "colab": {
          "base_uri": "https://localhost:8080/"
        },
        "id": "_Kchy9cFj-1a",
        "outputId": "aca0e7a7-da93-4198-d361-4f9b7208388e"
      },
      "outputs": [
        {
          "name": "stdout",
          "output_type": "stream",
          "text": [
            "Hyperparameters currently in use:\n",
            "\n",
            "{'bootstrap': False,\n",
            " 'ccp_alpha': 0.0,\n",
            " 'class_weight': None,\n",
            " 'criterion': 'gini',\n",
            " 'max_depth': None,\n",
            " 'max_features': 'auto',\n",
            " 'max_leaf_nodes': None,\n",
            " 'max_samples': None,\n",
            " 'min_impurity_decrease': 0.0,\n",
            " 'min_samples_leaf': 1,\n",
            " 'min_samples_split': 2,\n",
            " 'min_weight_fraction_leaf': 0.0,\n",
            " 'n_estimators': 100,\n",
            " 'n_jobs': None,\n",
            " 'oob_score': False,\n",
            " 'random_state': None,\n",
            " 'verbose': 0,\n",
            " 'warm_start': False}\n"
          ]
        }
      ],
      "source": [
        "print('Hyperparameters currently in use:\\n')\n",
        "pprint(EXC1.get_params())"
      ]
    },
    {
      "cell_type": "markdown",
      "metadata": {
        "id": "zx70iuINQYXN"
      },
      "source": [
        "### Checking the mertrics of the current model"
      ]
    },
    {
      "cell_type": "code",
      "execution_count": null,
      "metadata": {
        "colab": {
          "base_uri": "https://localhost:8080/"
        },
        "id": "7nXWnFo1Pzh_",
        "outputId": "3ea2fcb1-9214-4127-8d64-952fd9fbceb2"
      },
      "outputs": [
        {
          "name": "stdout",
          "output_type": "stream",
          "text": [
            "Acccuracy: 80.54545454545455%\n",
            "Precision: 100.0%\n",
            "Recall:    0.15552099533437014%\n",
            "F1:        0.3105590062111801%\n"
          ]
        }
      ],
      "source": [
        "# Check the best parameters\n",
        "#model = RandomForestClassifier(bootstrap='True',  criterion='gini',  max_features= 5, min_samples_split= 3,  n_estimators= 100)\n",
        "EXC1.fit(X_train_sampled,y_train_sampled)\n",
        "y_pred_EXC1 = EXC1.predict(X_test) \n",
        "print(f\"Acccuracy: {accuracy_score(y_test, y_pred)*100}%\")\n",
        "print(f\"Precision: {precision_score(y_test, y_pred)*100}%\")\n",
        "print(f\"Recall:    {recall_score(y_test, y_pred)*100}%\")\n",
        "print(f\"F1:        {f1_score(y_test, y_pred)*100}%\")"
      ]
    },
    {
      "cell_type": "code",
      "execution_count": null,
      "metadata": {
        "colab": {
          "base_uri": "https://localhost:8080/"
        },
        "id": "t6tUjNxSQYXO",
        "outputId": "73b60ce2-581e-441c-8784-71b63aa1f883"
      },
      "outputs": [
        {
          "name": "stdout",
          "output_type": "stream",
          "text": [
            "              precision    recall  f1-score   support\n",
            "\n",
            "           0       0.82      0.84      0.83      2657\n",
            "           1       0.28      0.26      0.27       643\n",
            "\n",
            "    accuracy                           0.72      3300\n",
            "   macro avg       0.55      0.55      0.55      3300\n",
            "weighted avg       0.72      0.72      0.72      3300\n",
            "\n"
          ]
        }
      ],
      "source": [
        "confusion_matrix(y_pred= y_pred, y_true = y_test)\n",
        "print(classification_report(y_pred= y_pred, y_true = y_test))"
      ]
    },
    {
      "cell_type": "code",
      "execution_count": null,
      "metadata": {
        "id": "qUIkTIBuBAtC"
      },
      "outputs": [],
      "source": [
        "from sklearn.metrics import plot_confusion_matrix"
      ]
    },
    {
      "cell_type": "code",
      "execution_count": null,
      "metadata": {
        "colab": {
          "base_uri": "https://localhost:8080/",
          "height": 337
        },
        "id": "WtJXcJthgTmP",
        "outputId": "0ac0587f-b935-499b-e84b-ce642a299543"
      },
      "outputs": [
        {
          "data": {
            "image/png": "[encoded data removed]",
            "text/plain": [
              "<Figure size 432x288 with 2 Axes>"
            ]
          },
          "metadata": {
            "needs_background": "light"
          },
          "output_type": "display_data"
        }
      ],
      "source": [
        "cf_matrix = confusion_matrix(y_test, y_pred)\n",
        "ax = sns.heatmap(cf_matrix, annot=True, cmap='Blues')\n",
        "\n",
        "ax.set_title('Seaborn Confusion Matrix with labels\\n\\n');\n",
        "ax.set_xlabel('\\nPredicted Values')\n",
        "ax.set_ylabel('Actual Values ');\n",
        "\n",
        "## Ticket labels - List must be in alphabetical order\n",
        "ax.xaxis.set_ticklabels(['False','True'])\n",
        "ax.yaxis.set_ticklabels(['False','True'])\n",
        "\n",
        "## Display the visualization of the Confusion Matrix.\n",
        "plt.show()"
      ]
    },
    {
      "cell_type": "code",
      "execution_count": null,
      "metadata": {
        "colab": {
          "base_uri": "https://localhost:8080/",
          "height": 337
        },
        "id": "pxxPCo_nGRAV",
        "outputId": "196ca777-105f-47e4-9e84-338fccd888b1"
      },
      "outputs": [
        {
          "data": {
            "image/png": "[encoded data removed]",
            "text/plain": [
              "<Figure size 432x288 with 2 Axes>"
            ]
          },
          "metadata": {
            "needs_background": "light"
          },
          "output_type": "display_data"
        }
      ],
      "source": [
        "ax = sns.heatmap(cf_matrix/np.sum(cf_matrix), annot=True, \n",
        "            fmt='.2%', cmap='Blues')\n",
        "\n",
        "ax.set_title('Seaborn Confusion Matrix with labels\\n\\n');\n",
        "ax.set_xlabel('\\nPredicted Values')\n",
        "ax.set_ylabel('Actual Values ');\n",
        "\n",
        "## Ticket labels - List must be in alphabetical order\n",
        "ax.xaxis.set_ticklabels(['False','True'])\n",
        "ax.yaxis.set_ticklabels(['False','True'])\n",
        "\n",
        "## Display the visualization of the Confusion Matrix.\n",
        "plt.show()"
      ]
    },
    {
      "cell_type": "markdown",
      "metadata": {
        "id": "OHIAH1znHkmu"
      },
      "source": [
        "# Founding the best parameters"
      ]
    },
    {
      "cell_type": "markdown",
      "metadata": {
        "id": "OldQgS1dQ-zt"
      },
      "source": [
        "Here we start to find the best parameters. Let's improve:\n",
        "\n",
        "* n_estimators \n",
        "* max_depth \n",
        "* min_samples_split \n",
        "* min_samples_leaf \n",
        "* max_features"
      ]
    },
    {
      "cell_type": "markdown",
      "metadata": {
        "id": "0QpdeegfwcLx"
      },
      "source": [
        "### Learning rate "
      ]
    },
    {
      "cell_type": "code",
      "execution_count": null,
      "metadata": {
        "id": "V9lWb36FwgCB"
      },
      "outputs": [],
      "source": [
        "learning_rates = [1, 0.5, 0.25, 0.1, 0.05, 0.01]\n",
        "train_results = []\n",
        "test_results = []\n",
        "for eta in learning_rates:\n",
        "   model = ExtraTreesClassifier(learning_rates=eta)\n",
        "   model.fit(X_train, y_train)\n",
        "   train_pred = model.predict(X_train)\n",
        "   false_positive_rate, true_positive_rate, thresholds = roc_curve(y_train, train_pred)\n",
        "   roc_auc = auc(false_positive_rate, true_positive_rate)\n",
        "   train_results.append(roc_auc)\n",
        "   y_pred = model.predict(X_test)\n",
        "   false_positive_rate, true_positive_rate, thresholds = roc_curve(y_test, y_pred)\n",
        "   roc_auc = auc(false_positive_rate, true_positive_rate)\n",
        "   test_results.append(roc_auc)\n",
        "   \n",
        "#plotting the best parameters\n",
        "line1, = plt.plot(learning_rates, train_results, 'b', label=\"Train AUC\")\n",
        "line2, = plt.plot(learning_rates, test_results, 'r', label=\"Test AUC\")\n",
        "plt.legend(handler_map={line1: HandlerLine2D(numpoints=2)})\n",
        "plt.ylabel(\"AUC score\")\n",
        "plt.xlabel(\"learning_rates\")\n",
        "plt.show()"
      ]
    },
    {
      "cell_type": "markdown",
      "metadata": {
        "id": "NvUO6mCFgkIU"
      },
      "source": [
        "### N_Estimators"
      ]
    },
    {
      "cell_type": "code",
      "execution_count": null,
      "metadata": {
        "colab": {
          "base_uri": "https://localhost:8080/",
          "height": 280
        },
        "id": "cE4HBNSc7pWz",
        "outputId": "ae73e4d4-ea6c-47af-ad12-24fd8c9abae0"
      },
      "outputs": [
        {
          "data": {
            "image/png": "[encoded data removed]",
            "text/plain": [
              "<Figure size 432x288 with 1 Axes>"
            ]
          },
          "metadata": {
            "needs_background": "light"
          },
          "output_type": "display_data"
        }
      ],
      "source": [
        "n_estimators = [1, 2, 4, 8, 16, 32, 64, 100, 200]\n",
        "train_results = []\n",
        "test_results = []\n",
        "for eta in n_estimators:\n",
        "   model = ExtraTreesClassifier(n_estimators=eta)\n",
        "   model.fit(X_train, y_train)\n",
        "   train_pred = model.predict(X_train)\n",
        "   false_positive_rate, true_positive_rate, thresholds = roc_curve(y_train, train_pred)\n",
        "   roc_auc = auc(false_positive_rate, true_positive_rate)\n",
        "   train_results.append(roc_auc)\n",
        "   y_pred = model.predict(X_test)\n",
        "   false_positive_rate, true_positive_rate, thresholds = roc_curve(y_test, y_pred)\n",
        "   roc_auc = auc(false_positive_rate, true_positive_rate)\n",
        "   test_results.append(roc_auc)\n",
        "   \n",
        "#plotting the best parameters\n",
        "line1, = plt.plot(n_estimators, train_results, 'b', label=\"Train AUC\")\n",
        "line2, = plt.plot(n_estimators, test_results, 'r', label=\"Test AUC\")\n",
        "plt.legend(handler_map={line1: HandlerLine2D(numpoints=2)})\n",
        "plt.ylabel(\"AUC score\")\n",
        "plt.xlabel(\"n_estimators\")\n",
        "plt.show()"
      ]
    },
    {
      "cell_type": "markdown",
      "metadata": {
        "id": "_T8MlmvGfb9E"
      },
      "source": [
        "### Max_depths"
      ]
    },
    {
      "cell_type": "code",
      "execution_count": null,
      "metadata": {
        "colab": {
          "base_uri": "https://localhost:8080/",
          "height": 295
        },
        "id": "ra4riur-874G",
        "outputId": "502ceb45-21fb-43ef-e096-1977e08d6db0"
      },
      "outputs": [
        {
          "data": {
            "image/png": "[encoded data removed]",
            "text/plain": [
              "<Figure size 432x288 with 1 Axes>"
            ]
          },
          "metadata": {
            "needs_background": "light"
          },
          "output_type": "display_data"
        }
      ],
      "source": [
        "# \n",
        "max_depths = np.linspace(1, 32, 32, endpoint=True)\n",
        "train_results = []\n",
        "test_results = []\n",
        "#\n",
        "for max_depth in max_depths:\n",
        "   model = ExtraTreesClassifier(max_depth=max_depth)\n",
        "   model.fit(X_train, y_train)\n",
        "   train_pred = model.predict(X_train)\n",
        "   false_positive_rate, true_positive_rate, thresholds = roc_curve(y_train, train_pred)\n",
        "   roc_auc = auc(false_positive_rate, true_positive_rate)\n",
        "   train_results.append(roc_auc)\n",
        "   y_pred = model.predict(X_test)\n",
        "   false_positive_rate, true_positive_rate, thresholds = roc_curve(y_test, y_pred)\n",
        "   roc_auc = auc(false_positive_rate, true_positive_rate)\n",
        "   test_results.append(roc_auc)\n",
        "   \n",
        "#plotting the best parameters\n",
        "line1, = plt.plot(max_depths, train_results, 'b', label=\"Train AUC\")\n",
        "line2, = plt.plot(max_depths, test_results, 'r', label=\"Test AUC\")\n",
        "plt.legend(handler_map={line1: HandlerLine2D(numpoints=2)})\n",
        "plt.ylabel(\"AUC score\")\n",
        "plt.xlabel(\"Tree depth\")\n",
        "plt.title(\"GBC max_depth\")\n",
        "plt.show()"
      ]
    },
    {
      "cell_type": "markdown",
      "metadata": {
        "id": "y5CExwCVhCWC"
      },
      "source": [
        "### min_samples_split"
      ]
    },
    {
      "cell_type": "code",
      "execution_count": null,
      "metadata": {
        "colab": {
          "base_uri": "https://localhost:8080/",
          "height": 279
        },
        "id": "ZbDEHw_DhExC",
        "outputId": "7aa3dad0-c77a-4f63-b106-2ecbb368daf4"
      },
      "outputs": [
        {
          "data": {
            "image/png": "[encoded data removed]",
            "text/plain": [
              "<Figure size 432x288 with 1 Axes>"
            ]
          },
          "metadata": {
            "needs_background": "light"
          },
          "output_type": "display_data"
        }
      ],
      "source": [
        "min_samples_splits = np.linspace(0.1, 1.0, 10, endpoint=True)\n",
        "train_results = []\n",
        "test_results = []\n",
        "\n",
        "for min_samples_split in min_samples_splits:\n",
        "   model = ExtraTreesClassifier(min_samples_split=min_samples_split)\n",
        "   model.fit(X_train, y_train)\n",
        "   train_pred = model.predict(X_train)\n",
        "   false_positive_rate, true_positive_rate, thresholds = roc_curve(y_train, train_pred)\n",
        "   roc_auc = auc(false_positive_rate, true_positive_rate)\n",
        "   train_results.append(roc_auc)\n",
        "   y_pred = model.predict(X_test)\n",
        "   false_positive_rate, true_positive_rate, thresholds = roc_curve(y_test, y_pred)\n",
        "   roc_auc = auc(false_positive_rate, true_positive_rate)\n",
        "   test_results.append(roc_auc)\n",
        "\n",
        "\n",
        "line1, = plt.plot(min_samples_splits, train_results, 'b', label=\"Train AUC\")\n",
        "line2, = plt.plot(min_samples_splits, test_results, 'r', label=\"Test AUC\")\n",
        "plt.legend(handler_map={line1: HandlerLine2D(numpoints=2)})\n",
        "plt.ylabel(\"AUC score\")\n",
        "plt.xlabel(\"min samples split\")\n",
        "plt.show()"
      ]
    },
    {
      "cell_type": "markdown",
      "metadata": {
        "id": "1b1uNuB4jQM4"
      },
      "source": [
        "### min_samples_leaf"
      ]
    },
    {
      "cell_type": "code",
      "execution_count": null,
      "metadata": {
        "colab": {
          "base_uri": "https://localhost:8080/",
          "height": 279
        },
        "id": "eNdGpUysjTli",
        "outputId": "88b2a482-9adb-429f-b892-5f5731381795"
      },
      "outputs": [
        {
          "data": {
            "image/png": "[encoded data removed]",
            "text/plain": [
              "<Figure size 432x288 with 1 Axes>"
            ]
          },
          "metadata": {
            "needs_background": "light"
          },
          "output_type": "display_data"
        }
      ],
      "source": [
        "min_samples_leafs = np.linspace(0.1, 0.5, 5, endpoint=True)\n",
        "train_results = []\n",
        "test_results = []\n",
        "for min_samples_leaf in min_samples_leafs:\n",
        "   model = ExtraTreesClassifier(min_samples_leaf=min_samples_leaf)\n",
        "   model.fit(X_train, y_train)\n",
        "   train_pred = model.predict(X_train)\n",
        "   false_positive_rate, true_positive_rate, thresholds = roc_curve(y_train, train_pred)\n",
        "   roc_auc = auc(false_positive_rate, true_positive_rate)\n",
        "   train_results.append(roc_auc)\n",
        "   y_pred = model.predict(X_test)\n",
        "   false_positive_rate, true_positive_rate, thresholds = roc_curve(y_test, y_pred)\n",
        "   roc_auc = auc(false_positive_rate, true_positive_rate)\n",
        "   test_results.append(roc_auc)\n",
        "\n",
        "\n",
        "line1, = plt.plot(min_samples_leafs, train_results, \"b\", label=\"Train AUC\")\n",
        "line2, = plt.plot(min_samples_leafs, test_results, \"r\", label=\"Test AUC\")\n",
        "plt.legend(handler_map={line1: HandlerLine2D(numpoints=2)})\n",
        "plt.ylabel(\"AUC score\")\n",
        "plt.xlabel(\"min samples leaf\")\n",
        "plt.show()\n"
      ]
    },
    {
      "cell_type": "markdown",
      "metadata": {
        "id": "70amVmm6gog7"
      },
      "source": [
        "### max_features"
      ]
    },
    {
      "cell_type": "code",
      "execution_count": null,
      "metadata": {
        "colab": {
          "base_uri": "https://localhost:8080/",
          "height": 279
        },
        "id": "8SAP1AZU9qj_",
        "outputId": "d0b25880-3223-44d5-d08f-cc2279e7b570"
      },
      "outputs": [
        {
          "data": {
            "image/png": "[encoded data removed]",
            "text/plain": [
              "<Figure size 432x288 with 1 Axes>"
            ]
          },
          "metadata": {
            "needs_background": "light"
          },
          "output_type": "display_data"
        }
      ],
      "source": [
        "max_features = list(range(1,X_train.shape[1]))\n",
        "\n",
        "train_results = []\n",
        "test_results = []\n",
        "\n",
        "for max_feature in max_features:\n",
        "   model = ExtraTreesClassifier(max_features=max_feature)\n",
        "   model.fit(X_train, y_train)\n",
        "   train_pred = model.predict(X_train)\n",
        "   false_positive_rate, true_positive_rate, thresholds = roc_curve(y_train, train_pred)\n",
        "   roc_auc = auc(false_positive_rate, true_positive_rate)\n",
        "   train_results.append(roc_auc)\n",
        "   y_pred = model.predict(X_test)\n",
        "   false_positive_rate, true_positive_rate, thresholds = roc_curve(y_test, y_pred)\n",
        "   roc_auc = auc(false_positive_rate, true_positive_rate)\n",
        "   test_results.append(roc_auc)\n",
        "\n",
        "line1, = plt.plot(max_features, train_results, 'b', label=\"Train AUC\")\n",
        "line2, = plt.plot(max_features, test_results, 'r', label=\"Test AUC\")\n",
        "plt.legend(handler_map={line1: HandlerLine2D(numpoints=2)})\n",
        "plt.ylabel(\"AUC score\")\n",
        "plt.xlabel(\"max features\")\n",
        "plt.show()"
      ]
    },
    {
      "cell_type": "markdown",
      "metadata": {
        "id": "yCLI850C-RL-"
      },
      "source": [
        "# Update of best parameters"
      ]
    },
    {
      "cell_type": "code",
      "execution_count": null,
      "metadata": {
        "colab": {
          "base_uri": "https://localhost:8080/"
        },
        "id": "g5ElcW6u2_4L",
        "outputId": "2a0b4ebd-6c74-4828-d475-3db7736077df"
      },
      "outputs": [
        {
          "data": {
            "text/plain": [
              "GradientBoostingClassifier()"
            ]
          },
          "execution_count": 69,
          "metadata": {},
          "output_type": "execute_result"
        }
      ],
      "source": [
        "GBC = GradientBoostingClassifier()\n",
        "GBC.fit(X_train_sampled, y_train_sampled)"
      ]
    },
    {
      "cell_type": "code",
      "execution_count": null,
      "metadata": {
        "colab": {
          "base_uri": "https://localhost:8080/"
        },
        "id": "tTzS1lJsy88r",
        "outputId": "4705d0dd-079a-462e-f95e-888494b0344d"
      },
      "outputs": [
        {
          "data": {
            "text/plain": [
              "ExtraTreesClassifier()"
            ]
          },
          "execution_count": 64,
          "metadata": {},
          "output_type": "execute_result"
        }
      ],
      "source": [
        "EXC1 = ExtraTreesClassifier()\n",
        "EXC1.fit(X_train_sampled, y_train_sampled)"
      ]
    },
    {
      "cell_type": "code",
      "execution_count": null,
      "metadata": {
        "colab": {
          "base_uri": "https://localhost:8080/"
        },
        "id": "O7LInkwQ3MZa",
        "outputId": "3db22e4b-349a-49f6-b0de-cc08bd06ad63"
      },
      "outputs": [
        {
          "data": {
            "text/plain": [
              "GradientBoostingClassifier(learning_rate=0.2, max_depth=15, max_features=12)"
            ]
          },
          "execution_count": 73,
          "metadata": {},
          "output_type": "execute_result"
        }
      ],
      "source": [
        "GBC_final = GradientBoostingClassifier(learning_rate= 0.2, n_estimators=100, max_depth=15, max_features=12)\n",
        "GBC_final.fit(X_train_sampled, y_train_sampled)"
      ]
    },
    {
      "cell_type": "code",
      "execution_count": null,
      "metadata": {
        "colab": {
          "base_uri": "https://localhost:8080/"
        },
        "id": "-wWVkEyO-l5d",
        "outputId": "53522b18-62b2-4a59-f9c1-1fa5798e2b65"
      },
      "outputs": [
        {
          "data": {
            "text/plain": [
              "ExtraTreesClassifier(max_depth=15, max_features=10)"
            ]
          },
          "execution_count": 102,
          "metadata": {},
          "output_type": "execute_result"
        }
      ],
      "source": [
        "EXC_final = ExtraTreesClassifier(criterion=\"gini\", n_estimators=100, max_depth=15, max_features=10)\n",
        "EXC_final.fit(X_train_sampled, y_train_sampled)"
      ]
    },
    {
      "cell_type": "markdown",
      "metadata": {
        "id": "81QN-jgN5A4O"
      },
      "source": [
        "### Checking the metrics of each model"
      ]
    },
    {
      "cell_type": "code",
      "execution_count": null,
      "metadata": {
        "colab": {
          "base_uri": "https://localhost:8080/"
        },
        "id": "J9FNbZ6a-l5g",
        "outputId": "8cdf40c0-81f3-4a54-e8e5-be3fca66617f"
      },
      "outputs": [
        {
          "name": "stdout",
          "output_type": "stream",
          "text": [
            "Acccuracy: 85.54545454545455%\n",
            "Precision: 64.56140350877193%\n",
            "Recall:    57.23172628304821%\n",
            "F1-Score:  0.3105590062111801%\n"
          ]
        }
      ],
      "source": [
        "# Check the best parameters\n",
        "EXC_final.fit(X_train_sampled, y_train_sampled) \n",
        "y_pred_EXC_final = EXC_final.predict(X_test)\n",
        "print(f\"Acccuracy: {accuracy_score(y_test, y_pred_EXC_final)*100}%\")\n",
        "print(f\"Precision: {precision_score(y_test, y_pred_EXC_final)*100}%\")\n",
        "print(f\"Recall:    {recall_score(y_test, y_pred_EXC_final)*100}%\")\n",
        "print(f\"F1-Score:  {f1_score(y_test, y_pred)*100}%\")"
      ]
    },
    {
      "cell_type": "markdown",
      "metadata": {},
      "source": []
    },
    {
      "cell_type": "code",
      "execution_count": null,
      "metadata": {
        "colab": {
          "base_uri": "https://localhost:8080/"
        },
        "id": "7YvDG-YHy-2P",
        "outputId": "17cd85f3-b4ce-4a3e-d89b-85d22a591002"
      },
      "outputs": [
        {
          "name": "stdout",
          "output_type": "stream",
          "text": [
            "Acccuracy: 85.7878787878788%\n",
            "Precision: 69.33333333333334%\n",
            "Recall:    48.52255054432349%\n",
            "F1-Score:  57.09057639524245%\n"
          ]
        }
      ],
      "source": [
        "GBC_final.fit(X_train_sampled,y_train_sampled)\n",
        "y_pred_GBC_final= GBC_final.predict(X_test)\n",
        "print(f\"Acccuracy: {accuracy_score(y_test, y_pred_GBC_final)*100}%\")\n",
        "print(f\"Precision: {precision_score(y_test, y_pred_GBC_final)*100}%\")\n",
        "print(f\"Recall:    {recall_score(y_test, y_pred_GBC_final)*100}%\")\n",
        "print(f\"F1-Score:  {f1_score(y_test, y_pred_GBC_final)*100}%\")"
      ]
    },
    {
      "cell_type": "code",
      "execution_count": null,
      "metadata": {
        "id": "9jECGZ1ok703"
      },
      "outputs": [],
      "source": [
        "# https://towardsdatascience.com/deep-learning-with-python-neural-networks-complete-tutorial-6b53c0b06af0"
      ]
    },
    {
      "cell_type": "code",
      "execution_count": null,
      "metadata": {
        "colab": {
          "base_uri": "https://localhost:8080/",
          "height": 295
        },
        "id": "q8Vq89_96w2O",
        "outputId": "f0b1723f-24a6-4121-8b3a-8a80a34be82b"
      },
      "outputs": [
        {
          "data": {
            "image/png": "[encoded data removed]",
            "text/plain": [
              "<Figure size 432x288 with 1 Axes>"
            ]
          },
          "metadata": {
            "needs_background": "light"
          },
          "output_type": "display_data"
        }
      ],
      "source": [
        "y_pred1 = EXC_final.predict_proba(X_test)[:, 1]\n",
        "auc = metrics.roc_auc_score(y_test, y_pred1)\n",
        "false_positive_rate, true_positive_rate, thresolds = metrics.roc_curve(y_test, y_pred1)\n",
        "plt.axis('scaled')\n",
        "plt.xlim([0, 1])\n",
        "plt.ylim([0, 1])\n",
        "plt.title(\"AUC & ROC Curve\")\n",
        "plt.plot(false_positive_rate, true_positive_rate, 'g')\n",
        "plt.fill_between(false_positive_rate, true_positive_rate, facecolor='lightgreen', alpha=0.7)\n",
        "plt.text(0.95, 0.05, 'AUC = %0.4f' % auc, ha='right', fontsize=12, weight='bold', color='blue')\n",
        "plt.xlabel(\"False Positive Rate\")\n",
        "plt.ylabel(\"True Positive Rate\")\n",
        "plt.show()"
      ]
    },
    {
      "cell_type": "markdown",
      "metadata": {
        "id": "OsvKg15bQYXQ"
      },
      "source": [
        "# Explorying the model prediction with SHAP"
      ]
    },
    {
      "cell_type": "code",
      "execution_count": null,
      "metadata": {
        "id": "OUbg8CS45x9e"
      },
      "outputs": [],
      "source": [
        "feature_dict = dict(enumerate(df.drop(\"Exited\", 1).columns))"
      ]
    },
    {
      "cell_type": "code",
      "execution_count": null,
      "metadata": {
        "id": "Amr4TJBA4bv-"
      },
      "outputs": [],
      "source": [
        "# Let's try to explain the model with shap values\n",
        "explainer = shap.Explainer(model_final)\n",
        "shap_values = explainer.shap_values(X_test)"
      ]
    },
    {
      "cell_type": "code",
      "execution_count": null,
      "metadata": {
        "id": "o3a1TeQpzeRu"
      },
      "outputs": [],
      "source": [
        "shap.summary_plot(shap_values, X_test, feature_names = list(feature_dict.values()), plot_type = \"bar\", color = \"lightblue\")"
      ]
    },
    {
      "cell_type": "code",
      "execution_count": null,
      "metadata": {
        "id": "L3yvLd9W3YJk"
      },
      "outputs": [],
      "source": [
        "# Get expected value and shap values array\n",
        "expected_value = explainer.expected_value\n",
        "shap_array = explainer.shap_values(X)\n",
        "\n",
        "#Descion plot for first 10 observations\n",
        "shap.decision_plot(expected_value, shap_array[0:10],feature_names=list(X.columns))"
      ]
    },
    {
      "cell_type": "markdown",
      "metadata": {
        "id": "jQGxJIy4QYXR"
      },
      "source": [
        "## Exporting the model"
      ]
    },
    {
      "cell_type": "code",
      "execution_count": null,
      "metadata": {
        "id": "8ihe9vCNHA-k"
      },
      "outputs": [],
      "source": [
        "import joblib"
      ]
    },
    {
      "cell_type": "code",
      "execution_count": null,
      "metadata": {
        "id": "u_swHVYrQYXS"
      },
      "outputs": [],
      "source": [
        "model_FV = {\n",
        "'model': model_final, \n",
        "'features_modelo': list(X_train.columns)\n",
        "}"
      ]
    },
    {
      "cell_type": "code",
      "execution_count": null,
      "metadata": {
        "colab": {
          "base_uri": "https://localhost:8080/"
        },
        "id": "QOFyaTLbQYXU",
        "outputId": "b03d17d5-c3b0-40fb-8760-2e3e8c6e7754"
      },
      "outputs": [
        {
          "data": {
            "text/plain": [
              "['modelo.pickle']"
            ]
          },
          "execution_count": 43,
          "metadata": {},
          "output_type": "execute_result"
        }
      ],
      "source": [
        "joblib.dump(modelo, 'modelo.pickle')"
      ]
    },
    {
      "cell_type": "code",
      "execution_count": null,
      "metadata": {
        "id": "Bu5mstWMQYXU"
      },
      "outputs": [],
      "source": [
        "modelo = joblib.load('modelo.pickle')"
      ]
    },
    {
      "cell_type": "markdown",
      "metadata": {
        "id": "TffqgPCYm0NS"
      },
      "source": [
        "# Verifying the version of each packpage\n",
        " Don't forget to use the code <br>\n",
        " `pip install -r requirements.txt`\n"
      ]
    },
    {
      "cell_type": "code",
      "execution_count": null,
      "metadata": {
        "colab": {
          "base_uri": "https://localhost:8080/"
        },
        "id": "oqqyo6ln-hHV",
        "outputId": "d365140d-5186-422e-c97d-56c1f0ff6628"
      },
      "outputs": [
        {
          "name": "stdout",
          "output_type": "stream",
          "text": [
            "absl-py==1.0.0\n",
            "alabaster==0.7.12\n",
            "albumentations==0.1.12\n",
            "altair==4.2.0\n",
            "appdirs==1.4.4\n",
            "argon2-cffi==21.3.0\n",
            "argon2-cffi-bindings==21.2.0\n",
            "arviz==0.12.0\n",
            "astor==0.8.1\n",
            "astropy==4.3.1\n",
            "astunparse==1.6.3\n",
            "atari-py==0.2.9\n",
            "atomicwrites==1.4.0\n",
            "attrs==21.4.0\n",
            "audioread==2.1.9\n",
            "autograd==1.4\n",
            "Babel==2.10.1\n",
            "backcall==0.2.0\n",
            "beautifulsoup4==4.6.3\n",
            "bleach==5.0.0\n",
            "blis==0.4.1\n",
            "bokeh==2.3.3\n",
            "Bottleneck==1.3.4\n",
            "branca==0.5.0\n",
            "bs4==0.0.1\n",
            "CacheControl==0.12.11\n",
            "cached-property==1.5.2\n",
            "cachetools==4.2.4\n",
            "catalogue==1.0.0\n",
            "certifi==2021.10.8\n",
            "cffi==1.15.0\n",
            "cftime==1.6.0\n",
            "chardet==3.0.4\n",
            "charset-normalizer==2.0.12\n",
            "click==7.1.2\n",
            "cloudpickle==1.3.0\n",
            "cmake==3.22.4\n",
            "cmdstanpy==0.9.5\n",
            "colorcet==3.0.0\n",
            "colorlover==0.3.0\n",
            "community==1.0.0b1\n",
            "contextlib2==0.5.5\n",
            "convertdate==2.4.0\n",
            "coverage==3.7.1\n",
            "coveralls==0.5\n",
            "crcmod==1.7\n",
            "cufflinks==0.17.3\n",
            "cvxopt==1.2.7\n",
            "cvxpy==1.0.31\n",
            "cycler==0.11.0\n",
            "cymem==2.0.6\n",
            "Cython==0.29.28\n",
            "daft==0.0.4\n",
            "dask==2.12.0\n",
            "datascience==0.10.6\n",
            "debugpy==1.0.0\n",
            "decorator==4.4.2\n",
            "defusedxml==0.7.1\n",
            "descartes==1.1.0\n",
            "dill==0.3.4\n",
            "distributed==1.25.3\n",
            "dlib @ file:///dlib-19.18.0-cp37-cp37m-linux_x86_64.whl\n",
            "dm-tree==0.1.7\n",
            "docopt==0.6.2\n",
            "docutils==0.17.1\n",
            "dopamine-rl==1.0.5\n",
            "earthengine-api==0.1.307\n",
            "easydict==1.9\n",
            "ecos==2.0.10\n",
            "editdistance==0.5.3\n",
            "en-core-web-sm @ https://github.com/explosion/spacy-models/releases/download/en_core_web_sm-2.2.5/en_core_web_sm-2.2.5.tar.gz\n",
            "entrypoints==0.4\n",
            "ephem==4.1.3\n",
            "et-xmlfile==1.1.0\n",
            "fa2==0.3.5\n",
            "fastai==1.0.61\n",
            "fastdtw==0.3.4\n",
            "fastjsonschema==2.15.3\n",
            "fastprogress==1.0.2\n",
            "fastrlock==0.8\n",
            "fbprophet==0.7.1\n",
            "feather-format==0.4.1\n",
            "filelock==3.6.0\n",
            "firebase-admin==4.4.0\n",
            "fix-yahoo-finance==0.0.22\n",
            "Flask==1.1.4\n",
            "flatbuffers==2.0\n",
            "folium==0.8.3\n",
            "future==0.16.0\n",
            "gast==0.5.3\n",
            "GDAL==2.2.2\n",
            "gdown==4.4.0\n",
            "gensim==3.6.0\n",
            "geographiclib==1.52\n",
            "geopy==1.17.0\n",
            "gin-config==0.5.0\n",
            "glob2==0.7\n",
            "google==2.0.3\n",
            "google-api-core==1.31.5\n",
            "google-api-python-client==1.12.11\n",
            "google-auth==1.35.0\n",
            "google-auth-httplib2==0.0.4\n",
            "google-auth-oauthlib==0.4.6\n",
            "google-cloud-bigquery==1.21.0\n",
            "google-cloud-bigquery-storage==1.1.1\n",
            "google-cloud-core==1.0.3\n",
            "google-cloud-datastore==1.8.0\n",
            "google-cloud-firestore==1.7.0\n",
            "google-cloud-language==1.2.0\n",
            "google-cloud-storage==1.18.1\n",
            "google-cloud-translate==1.5.0\n",
            "google-colab @ file:///colabtools/dist/google-colab-1.0.0.tar.gz\n",
            "google-pasta==0.2.0\n",
            "google-resumable-media==0.4.1\n",
            "googleapis-common-protos==1.56.0\n",
            "googledrivedownloader==0.4\n",
            "graphviz==0.10.1\n",
            "greenlet==1.1.2\n",
            "grpcio==1.44.0\n",
            "gspread==3.4.2\n",
            "gspread-dataframe==3.0.8\n",
            "gym==0.17.3\n",
            "h5py==3.1.0\n",
            "HeapDict==1.0.1\n",
            "hijri-converter==2.2.3\n",
            "holidays==0.10.5.2\n",
            "holoviews==1.14.8\n",
            "html5lib==1.0.1\n",
            "httpimport==0.5.18\n",
            "httplib2==0.17.4\n",
            "httplib2shim==0.0.3\n",
            "humanize==0.5.1\n",
            "hyperopt==0.1.2\n",
            "ideep4py==2.0.0.post3\n",
            "idna==2.10\n",
            "imageio==2.4.1\n",
            "imagesize==1.3.0\n",
            "imbalanced-learn==0.8.1\n",
            "imblearn==0.0\n",
            "imgaug==0.2.9\n",
            "importlib-metadata==4.11.3\n",
            "importlib-resources==5.7.1\n",
            "imutils==0.5.4\n",
            "inflect==2.1.0\n",
            "iniconfig==1.1.1\n",
            "intel-openmp==2022.1.0\n",
            "intervaltree==2.1.0\n",
            "ipykernel==4.10.1\n",
            "ipython==5.5.0\n",
            "ipython-genutils==0.2.0\n",
            "ipython-sql==0.3.9\n",
            "ipywidgets==7.7.0\n",
            "itsdangerous==1.1.0\n",
            "jax==0.3.8\n",
            "jaxlib @ https://storage.googleapis.com/jax-releases/cuda11/jaxlib-0.3.7+cuda11.cudnn805-cp37-none-manylinux2014_x86_64.whl\n",
            "jedi==0.18.1\n",
            "jieba==0.42.1\n",
            "Jinja2==2.11.3\n",
            "joblib==1.1.0\n",
            "jpeg4py==0.1.4\n",
            "jsonschema==4.3.3\n",
            "jupyter==1.0.0\n",
            "jupyter-client==5.3.5\n",
            "jupyter-console==5.2.0\n",
            "jupyter-core==4.10.0\n",
            "jupyterlab-pygments==0.2.2\n",
            "jupyterlab-widgets==1.1.0\n",
            "kaggle==1.5.12\n",
            "kapre==0.3.7\n",
            "keras==2.8.0\n",
            "Keras-Preprocessing==1.1.2\n",
            "keras-vis==0.4.1\n",
            "kiwisolver==1.4.2\n",
            "korean-lunar-calendar==0.2.1\n",
            "libclang==14.0.1\n",
            "librosa==0.8.1\n",
            "lightgbm==2.2.3\n",
            "llvmlite==0.34.0\n",
            "lmdb==0.99\n",
            "LunarCalendar==0.0.9\n",
            "lxml==4.2.6\n",
            "Markdown==3.3.6\n",
            "MarkupSafe==2.0.1\n",
            "matplotlib==3.2.2\n",
            "matplotlib-inline==0.1.3\n",
            "matplotlib-venn==0.11.7\n",
            "missingno==0.5.1\n",
            "mistune==0.8.4\n",
            "mizani==0.6.0\n",
            "mkl==2019.0\n",
            "mlxtend==0.14.0\n",
            "more-itertools==8.12.0\n",
            "moviepy==0.2.3.5\n",
            "mpmath==1.2.1\n",
            "msgpack==1.0.3\n",
            "multiprocess==0.70.12.2\n",
            "multitasking==0.0.10\n",
            "murmurhash==1.0.7\n",
            "music21==5.5.0\n",
            "natsort==5.5.0\n",
            "nbclient==0.6.2\n",
            "nbconvert==5.6.1\n",
            "nbformat==5.3.0\n",
            "nest-asyncio==1.5.5\n",
            "netCDF4==1.5.8\n",
            "networkx==2.6.3\n",
            "nibabel==3.0.2\n",
            "nltk==3.2.5\n",
            "notebook==5.3.1\n",
            "numba==0.51.2\n",
            "numexpr==2.8.1\n",
            "numpy==1.21.6\n",
            "nvidia-ml-py3==7.352.0\n",
            "oauth2client==4.1.3\n",
            "oauthlib==3.2.0\n",
            "okgrade==0.4.3\n",
            "opencv-contrib-python==4.1.2.30\n",
            "opencv-python==4.1.2.30\n",
            "openpyxl==3.0.9\n",
            "opt-einsum==3.3.0\n",
            "osqp==0.6.2.post0\n",
            "packaging==21.3\n",
            "palettable==3.3.0\n",
            "pandas==1.3.5\n",
            "pandas-datareader==0.9.0\n",
            "pandas-gbq==0.13.3\n",
            "pandas-profiling==1.4.1\n",
            "pandocfilters==1.5.0\n",
            "panel==0.12.1\n",
            "param==1.12.1\n",
            "parso==0.8.3\n",
            "pathlib==1.0.1\n",
            "patsy==0.5.2\n",
            "pep517==0.12.0\n",
            "pexpect==4.8.0\n",
            "pickleshare==0.7.5\n",
            "Pillow==7.1.2\n",
            "pip-tools==6.2.0\n",
            "plac==1.1.3\n",
            "plotly==5.5.0\n",
            "plotnine==0.6.0\n",
            "pluggy==0.7.1\n",
            "pooch==1.6.0\n",
            "portpicker==1.3.9\n",
            "prefetch-generator==1.0.1\n",
            "preshed==3.0.6\n",
            "prettytable==3.2.0\n",
            "progressbar2==3.38.0\n",
            "prometheus-client==0.14.1\n",
            "promise==2.3\n",
            "prompt-toolkit==1.0.18\n",
            "protobuf==3.17.3\n",
            "psutil==5.4.8\n",
            "psycopg2==2.7.6.1\n",
            "ptyprocess==0.7.0\n",
            "py==1.11.0\n",
            "pyarrow==6.0.1\n",
            "pyasn1==0.4.8\n",
            "pyasn1-modules==0.2.8\n",
            "pycocotools==2.0.4\n",
            "pycparser==2.21\n",
            "pyct==0.4.8\n",
            "pydata-google-auth==1.4.0\n",
            "pydot==1.3.0\n",
            "pydot-ng==2.0.0\n",
            "pydotplus==2.0.2\n",
            "PyDrive==1.3.1\n",
            "pyemd==0.5.1\n",
            "pyerfa==2.0.0.1\n",
            "pyglet==1.5.0\n",
            "Pygments==2.6.1\n",
            "pygobject==3.26.1\n",
            "pymc3==3.11.4\n",
            "PyMeeus==0.5.11\n",
            "pymongo==4.1.1\n",
            "pymystem3==0.2.0\n",
            "PyOpenGL==3.1.6\n",
            "pyparsing==3.0.8\n",
            "pyrsistent==0.18.1\n",
            "pysndfile==1.3.8\n",
            "PySocks==1.7.1\n",
            "pystan==2.19.1.1\n",
            "pytest==3.6.4\n",
            "python-apt==0.0.0\n",
            "python-chess==0.23.11\n",
            "python-dateutil==2.8.2\n",
            "python-louvain==0.16\n",
            "python-slugify==6.1.2\n",
            "python-utils==3.1.0\n",
            "pytz==2022.1\n",
            "pyviz-comms==2.2.0\n",
            "PyWavelets==1.3.0\n",
            "PyYAML==3.13\n",
            "pyzmq==22.3.0\n",
            "qdldl==0.1.5.post2\n",
            "qtconsole==5.3.0\n",
            "QtPy==2.1.0\n",
            "regex==2019.12.20\n",
            "requests==2.23.0\n",
            "requests-oauthlib==1.3.1\n",
            "resampy==0.2.2\n",
            "rpy2==3.4.5\n",
            "rsa==4.8\n",
            "scikit-image==0.18.3\n",
            "scikit-learn==1.0.2\n",
            "scipy==1.4.1\n",
            "screen-resolution-extra==0.0.0\n",
            "scs==3.2.0\n",
            "seaborn==0.11.2\n",
            "semver==2.13.0\n",
            "Send2Trash==1.8.0\n",
            "setuptools-git==1.2\n",
            "shap==0.40.0\n",
            "Shapely==1.8.1.post1\n",
            "simplegeneric==0.8.1\n",
            "six==1.15.0\n",
            "sklearn==0.0\n",
            "sklearn-pandas==1.8.0\n",
            "slicer==0.0.7\n",
            "smart-open==6.0.0\n",
            "snowballstemmer==2.2.0\n",
            "sortedcontainers==2.4.0\n",
            "SoundFile==0.10.3.post1\n",
            "soupsieve==2.3.2.post1\n",
            "spacy==2.2.4\n",
            "Sphinx==1.8.6\n",
            "sphinxcontrib-serializinghtml==1.1.5\n",
            "sphinxcontrib-websupport==1.2.4\n",
            "SQLAlchemy==1.4.36\n",
            "sqlparse==0.4.2\n",
            "srsly==1.0.5\n",
            "statsmodels==0.10.2\n",
            "sympy==1.7.1\n",
            "tables==3.7.0\n",
            "tabulate==0.8.9\n",
            "tblib==1.7.0\n",
            "tenacity==8.0.1\n",
            "tensorboard==2.8.0\n",
            "tensorboard-data-server==0.6.1\n",
            "tensorboard-plugin-wit==1.8.1\n",
            "tensorflow @ file:///tensorflow-2.8.0-cp37-cp37m-linux_x86_64.whl\n",
            "tensorflow-datasets==4.0.1\n",
            "tensorflow-estimator==2.8.0\n",
            "tensorflow-gcs-config==2.8.0\n",
            "tensorflow-hub==0.12.0\n",
            "tensorflow-io-gcs-filesystem==0.25.0\n",
            "tensorflow-metadata==1.7.0\n",
            "tensorflow-probability==0.16.0\n",
            "termcolor==1.1.0\n",
            "terminado==0.13.3\n",
            "testpath==0.6.0\n",
            "text-unidecode==1.3\n",
            "textblob==0.15.3\n",
            "Theano-PyMC==1.1.2\n",
            "thinc==7.4.0\n",
            "threadpoolctl==3.1.0\n",
            "tifffile==2021.11.2\n",
            "tinycss2==1.1.1\n",
            "tomli==2.0.1\n",
            "toolz==0.11.2\n",
            "torch @ https://download.pytorch.org/whl/cu113/torch-1.11.0%2Bcu113-cp37-cp37m-linux_x86_64.whl\n",
            "torchaudio @ https://download.pytorch.org/whl/cu113/torchaudio-0.11.0%2Bcu113-cp37-cp37m-linux_x86_64.whl\n",
            "torchsummary==1.5.1\n",
            "torchtext==0.12.0\n",
            "torchvision @ https://download.pytorch.org/whl/cu113/torchvision-0.12.0%2Bcu113-cp37-cp37m-linux_x86_64.whl\n",
            "tornado==5.1.1\n",
            "tqdm==4.64.0\n",
            "traitlets==5.1.1\n",
            "tweepy==3.10.0\n",
            "typeguard==2.7.1\n",
            "typing-extensions==4.2.0\n",
            "tzlocal==1.5.1\n",
            "uritemplate==3.0.1\n",
            "urllib3==1.24.3\n",
            "vega-datasets==0.9.0\n",
            "wasabi==0.9.1\n",
            "wcwidth==0.2.5\n",
            "webencodings==0.5.1\n",
            "Werkzeug==1.0.1\n",
            "widgetsnbextension==3.6.0\n",
            "wordcloud==1.5.0\n",
            "wrapt==1.14.0\n",
            "xarray==0.18.2\n",
            "xgboost==0.90\n",
            "xkit==0.0.0\n",
            "xlrd==1.1.0\n",
            "xlwt==1.3.0\n",
            "yellowbrick==1.4\n",
            "zict==2.2.0\n",
            "zipp==3.8.0\n"
          ]
        }
      ],
      "source": [
        "! pip freeze"
      ]
    }
  ],
  "metadata": {
    "colab": {
      "collapsed_sections": [
        "OHIAH1znHkmu",
        "0QpdeegfwcLx",
        "NvUO6mCFgkIU",
        "_T8MlmvGfb9E",
        "y5CExwCVhCWC",
        "1b1uNuB4jQM4",
        "70amVmm6gog7"
      ],
      "name": "MLChurn.ipynb",
      "provenance": [],
      "toc_visible": true
    },
    "interpreter": {
      "hash": "04dd8c2ad7d9446cb4aa0339074fb6c09e4027812b839ad604cb61ac0ae7cb20"
    },
    "kernelspec": {
      "display_name": "Python 3.9.10 64-bit (windows store)",
      "language": "python",
      "name": "python3"
    },
    "language_info": {
      "codemirror_mode": {
        "name": "ipython",
        "version": 3
      },
      "file_extension": ".py",
      "mimetype": "text/x-python",
      "name": "python",
      "nbconvert_exporter": "python",
      "pygments_lexer": "ipython3",
      "version": "3.9.12"
    }
  },
  "nbformat": 4,
  "nbformat_minor": 0
}
